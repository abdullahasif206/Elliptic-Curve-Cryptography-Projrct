{
 "cells": [
  {
   "cell_type": "code",
   "execution_count": 516,
   "id": "4dde9e45",
   "metadata": {},
   "outputs": [],
   "source": [
    "# Create a simple Point class to represent the affine points.\n",
    "from collections import namedtuple\n",
    "Point = namedtuple(\"Point\", \"x y\")\n",
    "Point_3d = namedtuple(\"Point_3d\", \"x y z\")"
   ]
  },
  {
   "cell_type": "code",
   "execution_count": 517,
   "id": "cd668ced",
   "metadata": {},
   "outputs": [],
   "source": [
    "# Point addition in affine coordinate :\n",
    "\n",
    "def add_affine(P,Q,a,p) :\n",
    "\n",
    "    if P==None :\n",
    "        return Q\n",
    "    elif Q==None :\n",
    "        return P\n",
    "    elif P==Q : \n",
    "        l = (3 * P.x**2 + a) * pow((2 * P.y),-1,p)\n",
    "\n",
    "    else :\n",
    "        if P.x != Q.x : # Check if P+Q != Infinity (which means P and Q are symetric)\n",
    "            l = (Q.y - P.y) * pow((Q.x - P.x),-1,p)\n",
    "        else :\n",
    "            return None\n",
    "    x = (l**2 - P.x - Q.x) % p\n",
    "    y = (l * (P.x - x) - P.y) % p\n",
    "\n",
    "    return Point(x,y)"
   ]
  },
  {
   "cell_type": "code",
   "execution_count": 518,
   "id": "e4334266",
   "metadata": {},
   "outputs": [],
   "source": [
    "# Point doubling in affine coordinate :\n",
    "\n",
    "def double_affine(P,a,p) :\n",
    "\n",
    "    if P==None :\n",
    "        return None\n",
    "    else :\n",
    "        if P.y != 0 : # Check if P.y = 0 (which means 2*P = Infinity)\n",
    "            l = (3 * P.x**2 + a) * pow((2 * P.y),-1,p)\n",
    "        else :\n",
    "            return None\n",
    "    x = (l**2 - P.x - P.x) % p\n",
    "    y = (l * (P.x - x) - P.y) % p\n",
    "\n",
    "    return Point(x,y)"
   ]
  },
  {
   "cell_type": "code",
   "execution_count": 519,
   "id": "9ed08d7c",
   "metadata": {},
   "outputs": [],
   "source": [
    "# Point multiplication in affine coordinate :\n",
    "\n",
    "def double_and_add(n,P,a,p):\n",
    "    result = P\n",
    "    for b in format(n,'b')[1:]:\n",
    "        result = double_affine(result,a,p) # Doubling\n",
    "        if b=='1':\n",
    "            result = add_affine(result,P,a,p) # Addition\n",
    "    return result"
   ]
  },
  {
   "cell_type": "code",
   "execution_count": 637,
   "id": "2d869c92",
   "metadata": {},
   "outputs": [],
   "source": [
    "# Affine to Jacobi conversion :\n",
    "\n",
    "def affine_to_jacobi(P,p) :\n",
    "    return Point_3d(P.x,P.y,1)\n",
    "\n",
    "# Affine to Jacobi_MD conversion :\n",
    "\n",
    "def affine_to_jacobi_MD(P,p,prec) :\n",
    "    r = (2**prec) % p\n",
    "    r2 = (r*r)%p\n",
    "    rinv = rinv = pow(r,-1,p) #rinv = inverse_mod(r,p)\n",
    "    \n",
    "    X_MD = (P.x*r)%p #MontMult(P.x,r2,p)   # a -> a_M = a * R\n",
    "    Y_MD = (P.y*r2*rinv)%p #MontMult(P.y,r2,p)\n",
    "    Z_MD = r%p; #MontR(p)\n",
    "    return Point_3d(X_MD,Y_MD,Z_MD)\n",
    "\n",
    "# Jacobi to Affine conversion :\n",
    "\n",
    "def jacobi_to_affine(P,p) :\n",
    "    \n",
    "    if P == None or P.z == 0 :\n",
    "        return None\n",
    "    \n",
    "    zinv = pow(P.z,-1,p)\n",
    "    zinv2 = (zinv*zinv) %p\n",
    "    zinv3 = (zinv2*zinv) %p\n",
    "    \n",
    "    x_affine = (P.x*zinv2) %p\n",
    "    y_affine = (P.y*zinv3) %p\n",
    "    return Point(x_affine,y_affine)\n",
    "\n",
    "# Jacobi_MD to Affine conversion :\n",
    "\n",
    "def jacobi_MD_to_affine(P_MD,p,prec) :\n",
    "    \n",
    "    if P_MD == None or P_MD.z == 0 :\n",
    "        return None\n",
    "    \n",
    "    r = (2**prec) % p\n",
    "    r2 = (r*r)%p\n",
    "    rinv = pow(r,-1,p) #rinv = inverse_mod(r,p)\n",
    "    \n",
    "    zinv_MD = (pow(P_MD.z,-1,p) * r2) % p # zinv_MD = inverse_mod(P.z,p) # P.z is on Montgomery domain\n",
    "    zinv2_MD = (zinv_MD*zinv_MD*rinv) %p\n",
    "    zinv3_MD = (zinv2_MD*zinv_MD*rinv) %p\n",
    "    \n",
    "    x_affine_MD = (P_MD.x*zinv2_MD*rinv) %p # P.x is on Montgomery domain\n",
    "    y_affine_MD = (P_MD.y*zinv3_MD*rinv) %p # P.y is on Montgomery domain\n",
    "    \n",
    "    x_affine = (x_affine_MD * rinv) %p\n",
    "    y_affine = (y_affine_MD * rinv) %p\n",
    "    \n",
    "    return Point(x_affine,y_affine)"
   ]
  },
  {
   "cell_type": "code",
   "execution_count": 525,
   "id": "d3f7e505",
   "metadata": {},
   "outputs": [],
   "source": [
    "# Point doubling in Jacobian coordinate (Simplified formula)\n",
    "\n",
    "def double_jacobi(P,a,p) :\n",
    "    \n",
    "    if P == None or P.z==0 : # z = 0 means point at Infinity\n",
    "        return None\n",
    "    \n",
    "    X1=P.x\n",
    "    Y1=P.y\n",
    "    Z1=P.z\n",
    "    XX = (X1*X1) % p\n",
    "    YY = (Y1**2) % p\n",
    "    YYYY =(YY**2) % p\n",
    "    ZZ = (Z1**2) % p\n",
    "    S1 = (X1+YY) % p\n",
    "    S2 = (S1**2) % p\n",
    "    S3 = (S2-XX) % p\n",
    "    S4 = (S3-YYYY) % p\n",
    "    S = (2*S4) % p\n",
    "    ZZ2 =( ZZ**2) % p\n",
    "    M1 = (3*XX) % p\n",
    "    M2 = (a*ZZ2) % p\n",
    "    M = (M1+M2) % p\n",
    "    T1 = (M**2) % p\n",
    "    T2 = (2*S) % p\n",
    "    X3 = (T1-T2) % p\n",
    "    Y31 =( 8*YYYY) % p\n",
    "    Y32 =( S-X3) % p\n",
    "    Y33 =( M*Y32) % p\n",
    "    Y3 = (Y33-Y31) % p\n",
    "    Z31 =( Y1+Z1) % p\n",
    "    Z32 =( Z31**2) % p\n",
    "    Z33 =( Z32-YY) % p\n",
    "    Z3 = (Z33-ZZ) % p\n",
    "    return Point_3d(X3,Y3,Z3)\n",
    "\n",
    "# Point doubling in Jacobian coordinate\n",
    "\n",
    "def double_jacobi_old(P,a) :\n",
    "    \n",
    "    if P == None :\n",
    "        return None\n",
    "    \n",
    "    X1=P.x\n",
    "    Y1=P.y\n",
    "    Z1=P.z\n",
    "    XX = X1**2\n",
    "    YY = Y1**2\n",
    "    YYYY = YY**2\n",
    "    ZZ = Z1**2\n",
    "    S = 2*((X1+YY)**2-XX-YYYY)\n",
    "    M = 3*XX+a*ZZ**2\n",
    "    T = M**2-2*S\n",
    "    X3 = T\n",
    "    Y3 = M*(S-T)-8*YYYY\n",
    "    Z3 = (Y1+Z1)**2-YY-ZZ\n",
    "    return Point_3d(X3,Y3,Z3)"
   ]
  },
  {
   "cell_type": "code",
   "execution_count": 563,
   "id": "e0ec070b",
   "metadata": {},
   "outputs": [],
   "source": [
    "def double_jacobi_MD(P_MD,a,p,prec) :\n",
    "    \n",
    "    if P == None or P_MD.z==0 : # z = 0 means point at Infinity\n",
    "        return None\n",
    "    R = (2**prec) % p\n",
    "    r2 = (R*R)%p\n",
    "    rinv = pow(R,-1,p) #rinv = inverse_mod(r,p)\n",
    "    \n",
    "    X1=P_MD.x\n",
    "    Y1=P_MD.y\n",
    "    Z1=P_MD.z\n",
    "    XX = (X1*X1*rinv) % p # Mult(X1,X1)\n",
    "    YY = (Y1*Y1*rinv) % p\n",
    "    YYYY =(YY*YY*rinv) % p\n",
    "    ZZ = (Z1*Z1*rinv) % p\n",
    "    S1 = (X1+YY) % p\n",
    "    S2 = (S1*S1*rinv) % p\n",
    "    S3 = (S2-XX) % p\n",
    "    S4 = (S3-YYYY) % p\n",
    "    S = (2*R*S4*rinv) % p\n",
    "    ZZ2 =(ZZ*ZZ*rinv) % p\n",
    "    M1 = (3*R*XX*rinv) % p\n",
    "    M2 = (a*R*ZZ2*rinv) % p\n",
    "    M = (M1+M2) % p\n",
    "    T1 = (M*M*rinv) % p\n",
    "    T2 = (2*R*S*rinv) % p\n",
    "    X3 = (T1-T2) % p\n",
    "    Y31 =(8*R*YYYY*rinv) % p\n",
    "    Y32 =(S-X3) % p\n",
    "    Y33 =(M*Y32*rinv) % p\n",
    "    Y3 = (Y33-Y31) % p\n",
    "    Z31 =(Y1+Z1) % p\n",
    "    Z32 =(Z31*Z31*rinv) % p\n",
    "    Z33 =(Z32-YY) % p\n",
    "    Z3 = (Z33-ZZ) % p\n",
    "    return Point_3d(X3,Y3,Z3)"
   ]
  },
  {
   "cell_type": "code",
   "execution_count": 582,
   "id": "09170a3b",
   "metadata": {},
   "outputs": [],
   "source": [
    "# Point addition in Jacobian coordinate\n",
    "    \n",
    "def add_jacobi(P,Q,a,p) :\n",
    "    \n",
    "    # r = 2**prec; r2 = (r*r) % p; rinv = inverse_mod(r,p);\n",
    "    \n",
    "    if (P==None or P.z==0) and (Q==None or Q.z==0) :\n",
    "        return None\n",
    "    if P==None or P.z==0 : # z=0 means that the point is at infinity\n",
    "        return Q\n",
    "    if Q==None or Q.z==0 :\n",
    "        return P\n",
    "    if P==Q :\n",
    "        return double_jacobi(P,a,p)\n",
    "    X1 = P.x\n",
    "    Y1 = P.y\n",
    "    Z1 = P.z\n",
    "    \n",
    "    X2 = Q.x\n",
    "    Y2 = Q.y\n",
    "    Z2 = Q.z\n",
    "        \n",
    "    Z1Z1 = (Z1*Z1) % p\n",
    "    #  Z1Z1 = (Z1*Z1*rinv) % p\n",
    "    Z2Z2 = (Z2**2) % p\n",
    "    U1 = (X1*Z2Z2) % p\n",
    "    U2 = (X2*Z1Z1) % p\n",
    "    S11 = (Y1*Z2) % p\n",
    "    S1 = (S11*Z2Z2) % p\n",
    "    S21 = (Y2*Z1) % p\n",
    "    S2 = (S21*Z1Z1) % p\n",
    "    H = (U2-U1) % p\n",
    "    # H = U2-U1                            #in MWMAC: ModSub(U2,U1,p)\n",
    "    I1 = (2*H) % p\n",
    "    # two_MD = (2*r2*rinv) % p             #in MWMAC: MontMult(2,r2,p)\n",
    "    # I1 = (two_MD * H * rinv) % p\n",
    "    I = (I1**2) % p\n",
    "    J = (H*I) % p\n",
    "    r1 = (S2-S1) % p\n",
    "    r = (2*r1) % p\n",
    "    V = (U1*I) % p\n",
    "    X31 = (r**2) % p\n",
    "    X32 = (2*V) % p\n",
    "    X33 = (X31-J) % p\n",
    "    X3 = (X33-X32) % p\n",
    "    Y31 = (V-X3) % p\n",
    "    Y32 = (2*S1) % p\n",
    "    Y33 = (r*Y31) % p\n",
    "    Y34 = (Y32*J) % p\n",
    "    Y3 = (Y33-Y34) % p\n",
    "    Z31 = (Z1+Z2) % p\n",
    "    Z32 = (Z31**2) % p\n",
    "    Z33 = (Z32-Z1Z1) % p\n",
    "    Z34 = (Z33-Z2Z2) % p\n",
    "    Z3 = (Z34*H) % p\n",
    "    return Point_3d(X3,Y3,Z3)"
   ]
  },
  {
   "cell_type": "code",
   "execution_count": 583,
   "id": "f003d8ec",
   "metadata": {},
   "outputs": [],
   "source": [
    "# Point addition in Jacobian coordinate using Montgomery arithmetic\n",
    "   \n",
    "def add_jacobi_MD(P_MD,Q_MD,a,p,prec) :\n",
    "    \n",
    "    R = (2**prec) % p\n",
    "    r2 = (R*R)%p\n",
    "    rinv = pow(R,-1,p) #rinv = inverse_mod(r,p)\n",
    "    \n",
    "    if (P_MD==None or P_MD.z==0) and (Q_MD==None or Q_MD.z==0) :\n",
    "        return None\n",
    "    if P_MD==None or P_MD.z==0 : # z=0 means that the point is at infinity\n",
    "        return Q_MD\n",
    "    if Q_MD==None or Q_MD.z==0 :\n",
    "        return P_MD\n",
    "    if P_MD==Q_MD :\n",
    "        return double_jacobi_MD(P_MD,a,p,prec)\n",
    "    X1 = P_MD.x\n",
    "    Y1 = P_MD.y\n",
    "    Z1 = P_MD.z\n",
    "    \n",
    "    X2 = Q_MD.x\n",
    "    Y2 = Q_MD.y\n",
    "    Z2 = Q_MD.z\n",
    "        \n",
    "    Z1Z1 = (Z1*Z1*rinv) % p\n",
    "    Z2Z2 = (Z2*Z2*rinv) % p\n",
    "    U1 = (X1*Z2Z2*rinv) % p\n",
    "    U2 = (X2*Z1Z1*rinv) % p\n",
    "    S11 = (Y1*Z2*rinv) % p\n",
    "    S1 = (S11*Z2Z2*rinv) % p\n",
    "    S21 = (Y2*Z1*rinv) % p\n",
    "    S2 = (S21*Z1Z1*rinv) % p\n",
    "    H = (U2-U1) % p\n",
    "    I1 = (2*R*H*rinv) % p\n",
    "    I = (I1*I1*rinv) % p\n",
    "    J = (H*I*rinv) % p\n",
    "    r1 = (S2-S1) % p\n",
    "    r = (2*R*r1*rinv) % p\n",
    "    V = (U1*I*rinv) % p\n",
    "    X31 = (r*r*rinv) % p\n",
    "    X32 = (2*R*V*rinv) % p\n",
    "    X33 = (X31-J) % p\n",
    "    X3 = (X33-X32) % p\n",
    "    Y31 = (V-X3) % p\n",
    "    Y32 = (2*R*S1*rinv) % p\n",
    "    Y33 = (r*Y31*rinv) % p\n",
    "    Y34 = (Y32*J*rinv) % p\n",
    "    Y3 = (Y33-Y34) % p\n",
    "    Z31 = (Z1+Z2) % p\n",
    "    Z32 = (Z31*Z31*rinv) % p\n",
    "    Z33 = (Z32-Z1Z1) % p\n",
    "    Z34 = (Z33-Z2Z2) % p\n",
    "    Z3 = (Z34*H*rinv) % p\n",
    "    return Point_3d(X3,Y3,Z3)"
   ]
  },
  {
   "cell_type": "code",
   "execution_count": 588,
   "id": "6b298a1d",
   "metadata": {},
   "outputs": [
    {
     "name": "stdout",
     "output_type": "stream",
     "text": [
      "Result using Affine :  Point(x=30, y=9)\n",
      "Result using Jacobi :  Point(x=30, y=9)\n",
      "Result using Montgomery :  Point(x=30, y=9)\n"
     ]
    }
   ],
   "source": [
    "a = 11\n",
    "p=43\n",
    "prec = 512\n",
    "P = Point(14,2)\n",
    "Q = Point(3,23)\n",
    "\n",
    "P_jac = affine_to_jacobi(P,p)\n",
    "Q_jac = affine_to_jacobi(Q,p)\n",
    "\n",
    "P_MD = affine_to_jacobi_MD(P,p,prec)\n",
    "Q_MD = affine_to_jacobi_MD(Q,p,prec)\n",
    "\n",
    "R0 = add_affine(P,Q,a,p)\n",
    "R1_jac = add_jacobi(P_jac,Q_jac,a,p)\n",
    "R1 = jacobi_to_affine(R1_jac,p)\n",
    "R2_MD = add_jacobi_MD(P_MD,Q_MD,a,p,prec)\n",
    "R2 = jacobi_MD_to_affine(R2_MD,p,prec)\n",
    "\n",
    "print(\"Result using Affine : \", R0)\n",
    "print(\"Result using Jacobi : \", R1)\n",
    "print(\"Result using Montgomery : \", R2)"
   ]
  },
  {
   "cell_type": "code",
   "execution_count": 569,
   "id": "e441e86a",
   "metadata": {},
   "outputs": [],
   "source": [
    "def add_jacobi_old(P,Q,a) :\n",
    "    \n",
    "    if P==None :\n",
    "        return Q\n",
    "    if Q==None :\n",
    "        return P\n",
    "    \n",
    "    X1 = P.x\n",
    "    Y1 = P.y\n",
    "    Z1 = P.z\n",
    "    \n",
    "    X2 = Q.x\n",
    "    Y2 = Q.y\n",
    "    Z2 = Q.z\n",
    "        \n",
    "    Z1Z1 = Z1**2 %p\n",
    "    Z2Z2 = Z2**2\n",
    "    U1 = X1*Z2Z2\n",
    "    U2 = X2*Z1Z1\n",
    "    S1 = Y1*Z2*Z2Z2\n",
    "    S2 = Y2*Z1*Z1Z1\n",
    "    H = U2-U1\n",
    "    I = (2*H)**2\n",
    "    J = H*I\n",
    "    r = 2*(S2-S1)\n",
    "    V = U1*I\n",
    "    X3 = r**2-J-2*V\n",
    "    Y3 = r*(V-X3)-2*S1*J\n",
    "    Z3 = ((Z1+Z2)**2-Z1Z1-Z2Z2)*H\n",
    "    return Point_3d(X3,Y3,Z3)"
   ]
  },
  {
   "cell_type": "code",
   "execution_count": 589,
   "id": "cba1b56b",
   "metadata": {},
   "outputs": [],
   "source": [
    "def mult_jacobi(n,P,a,p) :\n",
    "    result = P # This is our zero point\n",
    "    for b in format(n,'b')[1:]: # Escape first bit which is 1 \n",
    "        result = double_jacobi(result,a,p) # Doubling\n",
    "        if b=='1':\n",
    "            result = add_jacobi(result,P,a,p) # Addition\n",
    "    return result"
   ]
  },
  {
   "cell_type": "code",
   "execution_count": 590,
   "id": "7123f214",
   "metadata": {},
   "outputs": [],
   "source": [
    "def mult_jacobi_old(n,P,a) :\n",
    "    result = P # This is our zero point\n",
    "    for b in format(n,'b')[1:]: # Escape first bit which is 1 \n",
    "        result = double_jacobi_old(result,a) # Doubling\n",
    "        if b=='1':\n",
    "            result = add_jacobi_old(result,P,a) # Addition\n",
    "    return result"
   ]
  },
  {
   "cell_type": "code",
   "execution_count": 598,
   "id": "0c147e9e",
   "metadata": {},
   "outputs": [],
   "source": [
    "def mult_jacobi_MD(n,P_MD,a,p,prec) :\n",
    "    result = P_MD # This is our zero point\n",
    "    for b in format(n,'b')[1:]: # Escape first bit which is 1 \n",
    "        result = double_jacobi_MD(result,a,p,prec) # Doubling\n",
    "        if b=='1':\n",
    "            result = add_jacobi_MD(result,P_MD,a,p,prec) # Addition\n",
    "    return result"
   ]
  },
  {
   "cell_type": "markdown",
   "id": "948190ad",
   "metadata": {},
   "source": [
    "## Testing Affine and Jacobi and Montgomery formulas :"
   ]
  },
  {
   "cell_type": "code",
   "execution_count": 653,
   "id": "7c635262",
   "metadata": {},
   "outputs": [],
   "source": [
    "a=11 # curve parameter\n",
    "p=43 # Modulo\n",
    "prec = 512 # Montgomery precision\n",
    "P = Point(16,11) # Point(15,17) + Point(x=15, y=26) = Infinity\n",
    "Q = Point(25,15)\n",
    "n = 1763563563632213 # n = 140 -> P_3d.z = 0 -> How to convert it to Affine ?\n",
    "\n",
    "P_3d = affine_to_jacobi(P,p)\n",
    "Q_3d = affine_to_jacobi(Q,p)\n",
    "\n",
    "P_MD = affine_to_jacobi_MD(P,p,prec)\n",
    "Q_MD = affine_to_jacobi_MD(Q,p,prec)"
   ]
  },
  {
   "cell_type": "code",
   "execution_count": 654,
   "id": "b02f1e3f",
   "metadata": {},
   "outputs": [
    {
     "name": "stdout",
     "output_type": "stream",
     "text": [
      "Affine     :  Point(x=25, y=28)\n",
      "Jacobi     :  Point(x=25, y=28)\n",
      "Montgomery :  Point(x=25, y=28)\n"
     ]
    }
   ],
   "source": [
    "# Test point doubling\n",
    "p_aff = double_affine(P,a,p)\n",
    "p_jac = double_jacobi(P_3d,a,p)\n",
    "p_mon = double_jacobi_MD(P_MD,a,p,prec)\n",
    "\n",
    "print(\"Affine     : \", p_aff)\n",
    "print(\"Jacobi     : \",jacobi_to_affine(p_jac,p))\n",
    "print(\"Montgomery : \",jacobi_MD_to_affine(p_mon,p,prec))"
   ]
  },
  {
   "cell_type": "code",
   "execution_count": 655,
   "id": "6d7a9e38",
   "metadata": {},
   "outputs": [
    {
     "name": "stdout",
     "output_type": "stream",
     "text": [
      "Affine     :  Point(x=16, y=32)\n",
      "Jacobi     :  Point(x=16, y=32)\n",
      "Montgomery :  Point(x=16, y=32)\n"
     ]
    }
   ],
   "source": [
    "# Test point addition\n",
    "p_aff = add_affine(P,Q,a,p)\n",
    "p_jac = add_jacobi(P_3d,Q_3d,a,p)\n",
    "p_mon = add_jacobi_MD(P_MD,Q_MD,a,p,prec)\n",
    "\n",
    "print(\"Affine     : \", p_aff)\n",
    "print(\"Jacobi     : \",jacobi_to_affine(p_jac,p))\n",
    "print(\"Montgomery : \",jacobi_MD_to_affine(p_mon,p,prec))"
   ]
  },
  {
   "cell_type": "code",
   "execution_count": 656,
   "id": "85979524",
   "metadata": {},
   "outputs": [
    {
     "name": "stdout",
     "output_type": "stream",
     "text": [
      "Affine     :  Point(x=7, y=15)\n",
      "Jacobi     :  Point(x=7, y=15)\n",
      "Montgomery :  Point(x=7, y=15)\n"
     ]
    }
   ],
   "source": [
    "# Test point multiplication :\n",
    "p_aff = double_and_add(n,P,a,p)\n",
    "p_jac = mult_jacobi(n,P_3d,a,p)\n",
    "p_mon = mult_jacobi_MD(n,P_MD,a,p,prec)\n",
    "\n",
    "print(\"Affine     : \", p_aff)\n",
    "print(\"Jacobi     : \",jacobi_to_affine(p_jac,p))\n",
    "print(\"Montgomery : \",jacobi_MD_to_affine(p_mon,p,prec))"
   ]
  },
  {
   "cell_type": "markdown",
   "id": "661fed0c",
   "metadata": {},
   "source": [
    "## Testing special cases (P+Q, 2P and nP equals to infinity)"
   ]
  },
  {
   "cell_type": "code",
   "execution_count": 657,
   "id": "2cce5ecd",
   "metadata": {},
   "outputs": [],
   "source": [
    "P = Point(16,11)\n",
    "Q = Point(x=16, y=32)\n",
    "\n",
    "P_3d = affine_to_jacobi(P,p)\n",
    "Q_3d = affine_to_jacobi(Q,p)\n",
    "\n",
    "P_MD = affine_to_jacobi_MD(P,p,prec)\n",
    "Q_MD = affine_to_jacobi_MD(Q,p,prec)"
   ]
  },
  {
   "cell_type": "code",
   "execution_count": 658,
   "id": "40d3c29d",
   "metadata": {},
   "outputs": [
    {
     "name": "stdout",
     "output_type": "stream",
     "text": [
      "Affine     :  None\n",
      "Jacobi     :  None\n",
      "Montgomery :  None\n"
     ]
    }
   ],
   "source": [
    "# Testing the case where P + Q = Infinity :\n",
    "\n",
    "print(\"Affine     : \",add_affine(P,Q,a,p))\n",
    "print(\"Jacobi     : \",jacobi_to_affine(add_jacobi(P_3d,Q_3d,a,p),p))\n",
    "print(\"Montgomery : \",jacobi_MD_to_affine(add_jacobi_MD(P_MD,Q_MD,a,p,prec),p,prec))"
   ]
  },
  {
   "cell_type": "code",
   "execution_count": 659,
   "id": "28ca54d9",
   "metadata": {},
   "outputs": [
    {
     "name": "stdout",
     "output_type": "stream",
     "text": [
      "Affine     :  None\n",
      "Jacobi     :  None\n",
      "Montgomery :  None\n"
     ]
    }
   ],
   "source": [
    "# Testing the case where Doubling P = Infinity :\n",
    "\n",
    "P = Point(40,0)\n",
    "P_3d = affine_to_jacobi(P,p)\n",
    "P_MD = affine_to_jacobi_MD(P,p,prec)\n",
    "\n",
    "print(\"Affine     : \",double_affine(P,a,p))\n",
    "print(\"Jacobi     : \",jacobi_to_affine(double_jacobi(P_3d,a,p),p))\n",
    "print(\"Montgomery : \",jacobi_MD_to_affine(double_jacobi_MD(P_MD,a,p,prec),p,prec))"
   ]
  },
  {
   "cell_type": "code",
   "execution_count": 660,
   "id": "c86b6ac5",
   "metadata": {},
   "outputs": [
    {
     "name": "stdout",
     "output_type": "stream",
     "text": [
      "Affine     :  None\n",
      "Jacobi     :  None\n",
      "Montgomery :  None\n"
     ]
    }
   ],
   "source": [
    "# Testing the case n*P = Infinity :\n",
    "n = 35\n",
    "P = Point(16,11)\n",
    "P_3d = affine_to_jacobi(P,p)\n",
    "P_MD = affine_to_jacobi_MD(P,p,prec)\n",
    "\n",
    "print(\"Affine     : \",double_and_add(n,P,a,p))\n",
    "print(\"Jacobi     : \",jacobi_to_affine(mult_jacobi(n,P_3d,a,p),p))\n",
    "print(\"Montgomery : \",jacobi_MD_to_affine(mult_jacobi_MD(n,P_MD,a,p,prec),p,prec))"
   ]
  },
  {
   "cell_type": "code",
   "execution_count": 670,
   "id": "e098bfa4",
   "metadata": {},
   "outputs": [
    {
     "name": "stdout",
     "output_type": "stream",
     "text": [
      "9772862182\n",
      "34\n",
      "1 :  13\n",
      "0 :  21\n",
      "30041548312477021\n"
     ]
    }
   ],
   "source": [
    "from timeit import default_timer as timer\n",
    "n = 287437123*34\n",
    "print(n)\n",
    "s = format(n,'b')\n",
    "print(len(s))\n",
    "print(\"1 : \",s.count('1'))\n",
    "print(\"0 : \",s.count('0'))\n",
    "\n",
    "x = '0b1101010101110101010000100000111101010101111110101011101'\n",
    "print(int(x,2))"
   ]
  },
  {
   "cell_type": "code",
   "execution_count": 671,
   "id": "588cbce1",
   "metadata": {},
   "outputs": [
    {
     "name": "stdout",
     "output_type": "stream",
     "text": [
      "Jacobi :  Point(x=31, y=40)\n",
      "Affine :  Point(x=31, y=40)\n"
     ]
    }
   ],
   "source": [
    "R1 = jacobi_to_affine(mult_jacobi(n,P_3d,a,p),p)\n",
    "R2 = double_and_add(n,P,a,p)\n",
    "print(\"Jacobi : \",R1)\n",
    "print(\"Affine : \",R2)"
   ]
  },
  {
   "cell_type": "code",
   "execution_count": 663,
   "id": "577e4f7f",
   "metadata": {},
   "outputs": [
    {
     "name": "stdout",
     "output_type": "stream",
     "text": [
      "0.001151900039985776\n"
     ]
    },
    {
     "data": {
      "text/plain": [
       "Point(x=31, y=3)"
      ]
     },
     "execution_count": 663,
     "metadata": {},
     "output_type": "execute_result"
    }
   ],
   "source": [
    "start = timer()\n",
    "R1 = mult_jacobi(n,P_3d,a,p)\n",
    "result = jacobi_to_affine(R1,p)\n",
    "end = timer()\n",
    "print (end-start)\n",
    "result"
   ]
  },
  {
   "cell_type": "code",
   "execution_count": 664,
   "id": "a064dea4",
   "metadata": {},
   "outputs": [
    {
     "name": "stdout",
     "output_type": "stream",
     "text": [
      "0.0006682999664917588\n",
      "None\n"
     ]
    }
   ],
   "source": [
    "start = timer()\n",
    "R2 = double_and_add(n,P,a,p)\n",
    "end = timer()\n",
    "print (end-start)\n",
    "print(R2)"
   ]
  },
  {
   "cell_type": "markdown",
   "id": "e30d4ce5",
   "metadata": {},
   "source": [
    "## Verification using Big numbers (JcrypTool)"
   ]
  },
  {
   "cell_type": "code",
   "execution_count": 681,
   "id": "c2c97075",
   "metadata": {},
   "outputs": [],
   "source": [
    "a = 6277101735386680763835789423207666416083908700390324961276\n",
    "p = 6277101735386680763835789423207666416083908700390324961279\n",
    "x = 4142864497108628997191135398145956424468169166144183778219\n",
    "y = 4677937196124056539257824887551427911549894528556935618667\n",
    "P = Point(x,y)\n",
    "p_3d = affine_to_jacobi(P,p)\n",
    "n = 1983249124\n",
    "P_jCryptool = Point(271200204370615955000047308808338852259101967016874506119,1382724357982614913185871638334457544038335605528526572970\n",
    ")"
   ]
  },
  {
   "cell_type": "code",
   "execution_count": 678,
   "id": "d2e449f1",
   "metadata": {},
   "outputs": [
    {
     "data": {
      "text/plain": [
       "True"
      ]
     },
     "execution_count": 678,
     "metadata": {},
     "output_type": "execute_result"
    }
   ],
   "source": [
    "double_and_add(n,P,a,p) == P_jCryptool"
   ]
  }
 ],
 "metadata": {
  "kernelspec": {
   "display_name": "Python 3 (ipykernel)",
   "language": "python",
   "name": "python3"
  },
  "language_info": {
   "codemirror_mode": {
    "name": "ipython",
    "version": 3
   },
   "file_extension": ".py",
   "mimetype": "text/x-python",
   "name": "python",
   "nbconvert_exporter": "python",
   "pygments_lexer": "ipython3",
   "version": "3.10.0"
  }
 },
 "nbformat": 4,
 "nbformat_minor": 5
}
